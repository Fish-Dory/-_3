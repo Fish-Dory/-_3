{
  "nbformat": 4,
  "nbformat_minor": 0,
  "metadata": {
    "colab": {
      "provenance": []
    },
    "kernelspec": {
      "name": "python3",
      "display_name": "Python 3"
    },
    "language_info": {
      "name": "python"
    }
  },
  "cells": [
    {
      "cell_type": "markdown",
      "source": [
        "Домашнее задание 3.\n",
        "\n",
        "Построить следующие виды распределений:\n",
        "\n",
        "beta(a, b[, size]) — бета-распределение;\n",
        "\n",
        "binomial(n, p[, size]) — биномиальное распределение;\n",
        "\n",
        "exponential([scale, size]) — экспоненциальное распределение;\n",
        "\n",
        "gamma(shape[, scale, size]) — гамма-распределение;\n",
        "\n",
        "geometric(p[, size]) — геометрическое распределение;\n",
        "\n",
        "normal([loc, scale, size]) — нормальное распределение;\n",
        "\n",
        "poisson([lam, size]) — пуассоновское распределение;\n",
        "\n",
        "uniform([low, high, size]) — равномерное распределение."
      ],
      "metadata": {
        "id": "OjDHfbmuJUFt"
      }
    },
    {
      "cell_type": "markdown",
      "source": [
        "1. beta(a, b[, size]) — бета-распределение;\n"
      ],
      "metadata": {
        "id": "gDqEkq-TMs_C"
      }
    },
    {
      "cell_type": "code",
      "source": [
        "import numpy as np\n",
        "import matplotlib.pyplot as plt\n",
        "\n",
        "# Указываем параметры распределения\n",
        "a = 2\n",
        "b = 5\n",
        "size_1 = 200\n",
        "\n",
        "# Генерируем выборку из бета-распределения\n",
        "beta_data = np.random.beta(a, b, size_1)\n",
        "beta_data"
      ],
      "metadata": {
        "colab": {
          "base_uri": "https://localhost:8080/"
        },
        "id": "aRpcM0NSJVq7",
        "outputId": "266f88d5-20aa-4fa5-8a97-287f21e0f308"
      },
      "execution_count": 117,
      "outputs": [
        {
          "output_type": "execute_result",
          "data": {
            "text/plain": [
              "array([0.15242899, 0.30141246, 0.11012768, 0.51001342, 0.45884118,\n",
              "       0.14431509, 0.4804274 , 0.26830596, 0.59470683, 0.65773005,\n",
              "       0.35352351, 0.23034811, 0.31243287, 0.06883553, 0.33642098,\n",
              "       0.11652299, 0.28218576, 0.5378666 , 0.15037193, 0.06182463,\n",
              "       0.22957633, 0.16840033, 0.29198154, 0.29209834, 0.62561869,\n",
              "       0.19091346, 0.22091612, 0.6807312 , 0.38421685, 0.15375061,\n",
              "       0.15845639, 0.20045465, 0.03417397, 0.30813471, 0.1545315 ,\n",
              "       0.59639815, 0.28286407, 0.05259435, 0.2805101 , 0.3583175 ,\n",
              "       0.55625403, 0.01118535, 0.17712975, 0.50528859, 0.1135504 ,\n",
              "       0.47251714, 0.21401791, 0.07976933, 0.30564695, 0.3070495 ,\n",
              "       0.19624837, 0.24136208, 0.34161402, 0.22847727, 0.63374846,\n",
              "       0.47827503, 0.1285725 , 0.47465493, 0.32820242, 0.57457362,\n",
              "       0.42000351, 0.07840629, 0.142187  , 0.07904776, 0.0997152 ,\n",
              "       0.47540452, 0.3410559 , 0.37299233, 0.10252373, 0.10506726,\n",
              "       0.04748084, 0.17358311, 0.08746497, 0.44653   , 0.28488634,\n",
              "       0.59421851, 0.12479498, 0.21679959, 0.17974546, 0.01769444,\n",
              "       0.18889078, 0.25709699, 0.0962436 , 0.03545343, 0.25621405,\n",
              "       0.22373519, 0.31936717, 0.14988012, 0.13696556, 0.15821898,\n",
              "       0.11883275, 0.10932391, 0.19665471, 0.26920204, 0.16698862,\n",
              "       0.11283874, 0.45007025, 0.32076054, 0.38033571, 0.52589358,\n",
              "       0.30278185, 0.46205358, 0.15204526, 0.27898403, 0.41545238,\n",
              "       0.26663644, 0.06287485, 0.63000056, 0.48014324, 0.46712178,\n",
              "       0.1464909 , 0.70085583, 0.11109877, 0.04867901, 0.05376438,\n",
              "       0.60340252, 0.19007205, 0.21506808, 0.27731288, 0.4654992 ,\n",
              "       0.37255461, 0.24852175, 0.29885979, 0.32706458, 0.46506654,\n",
              "       0.19516065, 0.49692865, 0.19816977, 0.40004783, 0.13029962,\n",
              "       0.39568283, 0.15758826, 0.53058616, 0.24754615, 0.20677837,\n",
              "       0.32848813, 0.44491201, 0.12968604, 0.22100814, 0.33687588,\n",
              "       0.11405334, 0.27525882, 0.10462315, 0.2727151 , 0.54713075,\n",
              "       0.46620686, 0.41176476, 0.0979244 , 0.1496489 , 0.32240557,\n",
              "       0.12098088, 0.26465523, 0.58089127, 0.21272047, 0.59750616,\n",
              "       0.44945042, 0.24857042, 0.30292204, 0.32425116, 0.39124244,\n",
              "       0.63316494, 0.1038996 , 0.07880572, 0.07355662, 0.21060391,\n",
              "       0.13448639, 0.37605965, 0.28985117, 0.28818539, 0.09139897,\n",
              "       0.37181645, 0.12241877, 0.6226426 , 0.25641448, 0.39995845,\n",
              "       0.01509095, 0.23223636, 0.17750571, 0.40254217, 0.15371875,\n",
              "       0.21397295, 0.20873105, 0.27904032, 0.3306427 , 0.245225  ,\n",
              "       0.21128191, 0.05451571, 0.40378434, 0.20112308, 0.1054429 ,\n",
              "       0.15852628, 0.40479642, 0.24800611, 0.28715827, 0.17733555,\n",
              "       0.44630825, 0.29959935, 0.54756746, 0.07881389, 0.61200769])"
            ]
          },
          "metadata": {},
          "execution_count": 117
        }
      ]
    },
    {
      "cell_type": "code",
      "source": [
        "# Строим гистограмму для визуализации распределения\n",
        "plt.hist(beta_data, bins=20, color='g')\n",
        "plt.title('Beta Distribution')\n",
        "plt.show()"
      ],
      "metadata": {
        "colab": {
          "base_uri": "https://localhost:8080/",
          "height": 452
        },
        "id": "j2aFgeHCL2hU",
        "outputId": "690067b9-339c-4156-d15e-18ce63328209"
      },
      "execution_count": 118,
      "outputs": [
        {
          "output_type": "display_data",
          "data": {
            "text/plain": [
              "<Figure size 640x480 with 1 Axes>"
            ],
            "image/png": "[encoded data removed]"
          },
          "metadata": {}
        }
      ]
    },
    {
      "cell_type": "markdown",
      "source": [
        "\n",
        "2. binomial(n, p[, size]) — биномиальное распределение;\n"
      ],
      "metadata": {
        "id": "w9JlF2MrM2hP"
      }
    },
    {
      "cell_type": "code",
      "source": [
        "import numpy as np\n",
        "import matplotlib.pyplot as plt\n",
        "\n",
        "# Указываем параметры распределения\n",
        "n = 10\n",
        "p = 0.5\n",
        "size_2 = 200\n",
        "\n",
        "# Генерируем выборку из биномиального распределения\n",
        "binom_data = np.random.binomial(n, p, size_2)\n",
        "binom_data"
      ],
      "metadata": {
        "colab": {
          "base_uri": "https://localhost:8080/"
        },
        "id": "7-uQOKJ5LyLX",
        "outputId": "8b320b63-0519-4970-c321-87cab7e80c8d"
      },
      "execution_count": 119,
      "outputs": [
        {
          "output_type": "execute_result",
          "data": {
            "text/plain": [
              "array([7, 6, 3, 4, 4, 6, 3, 4, 5, 7, 6, 5, 7, 4, 5, 7, 7, 6, 7, 5, 4, 5,\n",
              "       9, 4, 4, 3, 3, 5, 5, 5, 8, 4, 4, 7, 4, 3, 4, 5, 4, 5, 1, 8, 8, 3,\n",
              "       8, 5, 4, 6, 3, 7, 5, 3, 6, 6, 5, 4, 6, 6, 7, 6, 4, 6, 6, 6, 5, 7,\n",
              "       4, 6, 5, 5, 6, 5, 7, 3, 4, 7, 7, 4, 8, 5, 4, 2, 4, 8, 4, 4, 5, 7,\n",
              "       3, 6, 5, 3, 6, 6, 6, 6, 5, 6, 6, 8, 4, 7, 6, 0, 5, 8, 4, 6, 3, 3,\n",
              "       9, 6, 4, 3, 3, 6, 5, 6, 5, 3, 8, 6, 6, 5, 3, 7, 5, 7, 6, 6, 4, 4,\n",
              "       3, 6, 8, 5, 7, 6, 5, 4, 8, 4, 4, 6, 6, 3, 3, 7, 6, 5, 6, 6, 6, 7,\n",
              "       5, 9, 2, 5, 4, 5, 5, 3, 7, 7, 4, 6, 3, 4, 6, 4, 5, 5, 5, 4, 4, 5,\n",
              "       3, 5, 5, 7, 6, 4, 6, 7, 5, 5, 5, 5, 4, 2, 6, 5, 4, 8, 5, 8, 6, 8,\n",
              "       4, 6])"
            ]
          },
          "metadata": {},
          "execution_count": 119
        }
      ]
    },
    {
      "cell_type": "code",
      "source": [
        "# Строим гистограмму для визуализации распределения\n",
        "plt.hist(binom_data, bins=20, color='y')\n",
        "plt.title('Binomial Distribution')\n",
        "plt.show()"
      ],
      "metadata": {
        "colab": {
          "base_uri": "https://localhost:8080/",
          "height": 452
        },
        "id": "7u41FxynLO95",
        "outputId": "cedfeb63-1c72-45f1-82d8-713efb5a58e6"
      },
      "execution_count": 120,
      "outputs": [
        {
          "output_type": "display_data",
          "data": {
            "text/plain": [
              "<Figure size 640x480 with 1 Axes>"
            ],
            "image/png": "[encoded data removed]"
          },
          "metadata": {}
        }
      ]
    },
    {
      "cell_type": "markdown",
      "source": [
        "3. exponential([scale, size]) — экспоненциальное распределение;\n"
      ],
      "metadata": {
        "id": "i1ZFo5gIUJUr"
      }
    },
    {
      "cell_type": "code",
      "source": [
        "import numpy as np\n",
        "import matplotlib.pyplot as plt\n",
        "\n",
        "# Указываем параметры распределения\n",
        "scale = 1\n",
        "size_3 = 200\n",
        "\n",
        "# Генерируем выборку из экспоненциального распределения\n",
        "exp_data = np.random.exponential(scale, size_3)\n",
        "exp_data"
      ],
      "metadata": {
        "colab": {
          "base_uri": "https://localhost:8080/"
        },
        "id": "lNuu1sQ1UP4v",
        "outputId": "40b4e393-a435-48b6-932b-12a0e7d26d42"
      },
      "execution_count": 121,
      "outputs": [
        {
          "output_type": "execute_result",
          "data": {
            "text/plain": [
              "array([1.46909495e-01, 3.25896975e-01, 2.03743668e+00, 1.03565946e-01,\n",
              "       4.23081803e-01, 1.85126931e+00, 1.11331373e+00, 6.35562275e+00,\n",
              "       5.31372317e-01, 2.30702079e-01, 1.36297931e+00, 6.60952358e-01,\n",
              "       2.82555722e+00, 1.00322042e-01, 5.03940771e-01, 2.19298926e+00,\n",
              "       9.36718906e-01, 7.26859036e-01, 1.95328642e+00, 2.35852828e+00,\n",
              "       5.02840359e-01, 4.48854156e-02, 2.17616297e+00, 5.21473825e-02,\n",
              "       3.97005802e-01, 5.17697775e-01, 1.46533238e+00, 3.74069279e-01,\n",
              "       2.43505088e-01, 1.58034604e+00, 8.75613886e-01, 6.97884633e-01,\n",
              "       8.41781349e-01, 5.92028305e-01, 5.33624793e-01, 8.27637791e-01,\n",
              "       1.54911128e-02, 1.31792618e+00, 2.88237165e+00, 5.93317681e-01,\n",
              "       5.76573409e-01, 2.70786128e-01, 2.20227320e+00, 3.06958137e+00,\n",
              "       2.39309955e-01, 1.28609525e+00, 6.36732009e-02, 5.90561624e-01,\n",
              "       3.29959724e-01, 2.38756398e+00, 7.50974527e-01, 9.86066312e-01,\n",
              "       4.56320473e-01, 1.77754722e+00, 1.04138066e-01, 3.71399279e+00,\n",
              "       4.85741226e-01, 9.93481597e-01, 2.26365352e-01, 3.29654216e+00,\n",
              "       2.41675539e-01, 2.65978176e+00, 7.09806521e-01, 1.27013164e+00,\n",
              "       6.06244350e-01, 1.72202202e-01, 7.61082627e-01, 4.32296219e-01,\n",
              "       2.06277180e+00, 7.40146330e-01, 2.30403638e+00, 5.79398609e-01,\n",
              "       2.27335335e-01, 2.38703354e+00, 1.17503195e+00, 2.79593872e-01,\n",
              "       4.80750943e-02, 6.23494181e-01, 1.27336674e+00, 7.38361833e-01,\n",
              "       5.27095554e-01, 2.79684997e+00, 1.42796626e-01, 3.29559681e+00,\n",
              "       4.73668961e-01, 1.18877367e-01, 1.93372863e-01, 3.98689097e-01,\n",
              "       1.43926439e-01, 9.56342076e-01, 1.04057414e+00, 1.14795246e-02,\n",
              "       5.02087319e-01, 2.49483344e-01, 9.77957714e-01, 1.63224068e+00,\n",
              "       6.39143983e-01, 2.98816007e+00, 3.33096687e-01, 1.93656731e+00,\n",
              "       1.52104462e+00, 4.85634621e-01, 7.01073686e-01, 7.31722237e-01,\n",
              "       2.58724114e-01, 1.41415138e+00, 1.34620328e+00, 1.32451388e-01,\n",
              "       5.99889307e-02, 9.17442345e-01, 7.27676778e-04, 8.92720480e-01,\n",
              "       1.18489881e-01, 1.76356324e-01, 5.65103988e-01, 1.21882749e-01,\n",
              "       4.87682373e+00, 4.22311783e-01, 9.33975904e-01, 1.00926693e+00,\n",
              "       2.31017354e+00, 2.11007248e+00, 2.39202455e+00, 3.48349189e-01,\n",
              "       2.03036337e-01, 2.14610059e-01, 1.06902552e-01, 4.11316763e-01,\n",
              "       8.62965889e-01, 4.61960045e-02, 9.20103957e-01, 1.52617028e-02,\n",
              "       1.44523040e+00, 1.35358402e+00, 2.03635942e-01, 9.47156310e-01,\n",
              "       1.23645462e-01, 5.41206600e-02, 1.60475590e+00, 4.61817850e-01,\n",
              "       3.12704661e+00, 3.09638651e-01, 2.78371450e+00, 4.78947464e-01,\n",
              "       4.39341491e-01, 1.85668090e+00, 4.28646100e-01, 1.26682708e+00,\n",
              "       6.09119151e-01, 1.51288944e+00, 2.23181654e-01, 2.09083157e+00,\n",
              "       2.57247401e-01, 1.18209388e+00, 1.27975254e+00, 1.69411996e-01,\n",
              "       8.41279074e-01, 3.22091228e-01, 8.86159415e-01, 8.87841204e-01,\n",
              "       4.82501106e-01, 2.58592410e+00, 1.76740071e-01, 4.21867266e-01,\n",
              "       5.01796885e+00, 4.53468536e+00, 7.73645885e-01, 9.41282893e-01,\n",
              "       7.11940900e-01, 2.37232518e-02, 2.45778977e+00, 2.58848776e-02,\n",
              "       2.96699866e-01, 4.92475066e-01, 1.46396850e+00, 1.59261288e-01,\n",
              "       1.41213764e+00, 8.63738205e-02, 1.81509599e-01, 2.12680938e-01,\n",
              "       6.84932982e-01, 1.06539722e+00, 1.06416244e-01, 2.03702940e-01,\n",
              "       5.54590021e-01, 2.06983605e+00, 4.56335164e-01, 1.87869611e+00,\n",
              "       6.26352856e-01, 1.28820005e+00, 1.55819558e+00, 1.11928750e+00,\n",
              "       3.83076754e+00, 1.95264027e+00, 1.31616792e+00, 7.51848396e-01,\n",
              "       1.35377595e+00, 7.47337562e-01, 6.36286039e-03, 2.57114183e-01])"
            ]
          },
          "metadata": {},
          "execution_count": 121
        }
      ]
    },
    {
      "cell_type": "code",
      "source": [
        "# Строим гистограмму для визуализации распределения\n",
        "plt.hist(exp_data, bins=20, color='r')\n",
        "plt.title('Exponential Distribution')\n",
        "plt.show()"
      ],
      "metadata": {
        "colab": {
          "base_uri": "https://localhost:8080/",
          "height": 452
        },
        "id": "DPceLSwYUSF6",
        "outputId": "6e9b249a-e1a6-41a9-e680-3d6ad96600a2"
      },
      "execution_count": 122,
      "outputs": [
        {
          "output_type": "display_data",
          "data": {
            "text/plain": [
              "<Figure size 640x480 with 1 Axes>"
            ],
            "image/png": "[encoded data removed]"
          },
          "metadata": {}
        }
      ]
    },
    {
      "cell_type": "markdown",
      "source": [
        "4. gamma(shape[, scale, size]) — гамма-распределение;"
      ],
      "metadata": {
        "id": "7a4cK37kUUH6"
      }
    },
    {
      "cell_type": "code",
      "source": [
        "import numpy as np\n",
        "import matplotlib.pyplot as plt\n",
        "\n",
        "# Указываем параметры распределения\n",
        "shape = 2\n",
        "scale = 1\n",
        "size_4 = 200\n",
        "\n",
        "# Генерируем выборку из гамма-распределения\n",
        "gamma_data = np.random.gamma(shape, scale, size_4)\n",
        "gamma_data"
      ],
      "metadata": {
        "colab": {
          "base_uri": "https://localhost:8080/"
        },
        "id": "48C9pOgHUWAE",
        "outputId": "18500b19-43e5-47d4-b928-d3835fd547ca"
      },
      "execution_count": 123,
      "outputs": [
        {
          "output_type": "execute_result",
          "data": {
            "text/plain": [
              "array([2.67007133, 2.37123128, 0.64390811, 3.53019729, 0.46521155,\n",
              "       0.70058594, 1.93771656, 2.69536457, 1.97878935, 0.85349509,\n",
              "       3.11587517, 0.5052372 , 5.03984468, 2.30529766, 0.49531135,\n",
              "       1.51068353, 1.13635729, 0.93241566, 1.29037771, 4.07591572,\n",
              "       0.95151324, 1.2232504 , 1.14641113, 2.37986414, 2.35088013,\n",
              "       2.17806453, 4.20952712, 0.43311244, 1.65770107, 3.24528514,\n",
              "       1.24680016, 3.18332959, 4.12525614, 2.81662807, 1.12649181,\n",
              "       3.43960766, 2.96725773, 0.07528937, 0.52061855, 1.1352176 ,\n",
              "       0.4827573 , 2.95773004, 0.19907271, 1.68103861, 5.48112595,\n",
              "       0.96634407, 1.46694175, 3.02884633, 2.08538501, 3.52850043,\n",
              "       1.27043215, 0.38860396, 1.96933644, 4.40851765, 4.17385067,\n",
              "       2.31928269, 0.15566664, 0.41977114, 2.27469405, 3.95617039,\n",
              "       6.78503146, 1.53970667, 0.67007737, 1.21320622, 2.83908675,\n",
              "       2.33616679, 4.42674279, 0.36626593, 4.04654995, 0.88399672,\n",
              "       1.25351706, 4.70018171, 0.68321246, 1.87489987, 0.35021616,\n",
              "       1.01267053, 5.18142643, 1.71974129, 0.50290791, 1.7400997 ,\n",
              "       0.20318482, 2.79563113, 0.65139557, 1.52941116, 5.34155519,\n",
              "       1.17732098, 1.55789174, 2.04608949, 1.86335121, 1.30514998,\n",
              "       1.53995911, 0.56528131, 1.22840009, 2.67564713, 1.85119257,\n",
              "       0.75992386, 2.78182843, 0.55982059, 1.30701782, 2.60107995,\n",
              "       3.40905933, 1.10187324, 1.14836097, 2.90495175, 0.64495893,\n",
              "       2.13734919, 1.07512596, 1.10125976, 0.20543754, 0.74573677,\n",
              "       2.09850992, 0.93377762, 0.48591251, 2.00000428, 3.72398881,\n",
              "       2.39731059, 0.58614629, 2.00083709, 4.32241592, 2.54546436,\n",
              "       1.18526356, 1.71109393, 2.81934879, 2.95263603, 1.1813505 ,\n",
              "       2.28363261, 1.7479881 , 1.59189399, 3.60810652, 0.45895899,\n",
              "       1.43791249, 1.23291789, 2.86176781, 2.55589681, 3.14183972,\n",
              "       1.23909758, 1.22862171, 4.37808657, 2.53378896, 1.77159583,\n",
              "       3.25413205, 0.54552003, 2.87452006, 2.69938542, 3.21224489,\n",
              "       1.30583918, 1.28367176, 1.43096874, 0.56524415, 0.49441104,\n",
              "       1.14868216, 2.00846939, 1.34558231, 1.26440447, 2.08932652,\n",
              "       2.19972083, 1.45919619, 3.12943368, 3.69561107, 1.8963084 ,\n",
              "       1.18401558, 2.36937993, 2.66075864, 0.6563296 , 3.43844465,\n",
              "       1.71905243, 1.39925923, 2.60197092, 0.73378053, 2.01306322,\n",
              "       1.98066029, 1.14432283, 1.88174284, 7.03000982, 1.7985526 ,\n",
              "       0.72043432, 0.52537968, 1.96474286, 2.83338074, 1.66465765,\n",
              "       3.60165913, 2.70662543, 0.35202432, 0.56260568, 2.18165378,\n",
              "       5.16543967, 3.33290545, 1.24458074, 3.603295  , 0.51210775,\n",
              "       0.89189544, 0.79561436, 1.08669047, 8.28483107, 0.9899078 ,\n",
              "       1.04498014, 0.70235576, 1.74480069, 2.30327209, 0.59910061])"
            ]
          },
          "metadata": {},
          "execution_count": 123
        }
      ]
    },
    {
      "cell_type": "code",
      "source": [
        "# Строим гистограмму для визуализации распределения\n",
        "plt.hist(gamma_data, bins=20, color='b')\n",
        "plt.title('Gamma Distribution')\n",
        "plt.show()"
      ],
      "metadata": {
        "colab": {
          "base_uri": "https://localhost:8080/",
          "height": 452
        },
        "id": "yBQiUGf-UWaj",
        "outputId": "834ace92-72a5-45de-b1b7-2e4de60ac3bf"
      },
      "execution_count": 124,
      "outputs": [
        {
          "output_type": "display_data",
          "data": {
            "text/plain": [
              "<Figure size 640x480 with 1 Axes>"
            ],
            "image/png": "[encoded data removed]"
          },
          "metadata": {}
        }
      ]
    },
    {
      "cell_type": "markdown",
      "source": [
        "5. geometric(p[, size]) — геометрическое распределение;"
      ],
      "metadata": {
        "id": "3yD3EvINUW_k"
      }
    },
    {
      "cell_type": "code",
      "source": [
        "import numpy as np\n",
        "import matplotlib.pyplot as plt\n",
        "\n",
        "# Указываем параметры распределения\n",
        "p = 0.3\n",
        "size_5 = 200\n",
        "\n",
        "# Генерируем выборку из геометрического распределения\n",
        "geo_data = np.random.geometric(p, size_5)\n",
        "geo_data"
      ],
      "metadata": {
        "colab": {
          "base_uri": "https://localhost:8080/"
        },
        "id": "FHUdtEIpUXls",
        "outputId": "8eba1be6-b1a2-4c37-d976-2a5df9dfb944"
      },
      "execution_count": 125,
      "outputs": [
        {
          "output_type": "execute_result",
          "data": {
            "text/plain": [
              "array([ 4,  1,  1,  1,  2, 15,  5,  6,  6,  1,  3,  1, 11,  4,  1,  2,  2,\n",
              "        3,  6,  1,  1,  2, 12,  3,  1,  1,  1,  1,  3,  2,  1,  3,  1,  5,\n",
              "        1,  1, 12,  1,  3,  3,  5,  2,  1,  1,  1,  5,  2,  4,  4,  2,  3,\n",
              "        7,  2,  3,  1,  3,  5,  4,  2,  5,  1,  2,  2,  1,  8,  1,  6,  2,\n",
              "        5,  5,  2,  1,  1,  1,  1,  5,  1,  2,  1, 10,  1,  2,  1,  4,  5,\n",
              "        2,  1,  1,  3,  1,  4,  2,  3, 10,  3,  3,  3,  3,  1,  1,  4,  1,\n",
              "        1,  3,  2,  1,  9,  1,  5,  4,  1,  1, 11,  2,  1,  1,  3,  6,  5,\n",
              "        2,  2,  1,  2,  4,  3,  3,  1,  3,  5,  1,  3,  3,  1,  1,  8,  3,\n",
              "        1,  5,  8,  5,  2,  1,  5,  2,  2,  3,  1,  2,  1,  1, 12,  5,  1,\n",
              "        4,  7,  4,  4,  2,  6,  2,  3,  1,  3,  8,  6,  1,  5,  1,  7,  1,\n",
              "        4,  3,  4,  1,  3,  3,  2,  2,  1,  1,  4,  3,  7,  3,  2,  2,  3,\n",
              "        1,  1,  1,  5,  3,  2,  1,  4,  2,  5,  5,  2,  1])"
            ]
          },
          "metadata": {},
          "execution_count": 125
        }
      ]
    },
    {
      "cell_type": "code",
      "source": [
        "# Строим гистограмму для визуализации распределения\n",
        "plt.hist(geo_data, bins=20, color='g')\n",
        "plt.title('Geometric Distribution')\n",
        "plt.show()"
      ],
      "metadata": {
        "colab": {
          "base_uri": "https://localhost:8080/",
          "height": 452
        },
        "id": "HQWXAz15UYHj",
        "outputId": "191acc2f-7197-4ba7-ae89-067a971adde8"
      },
      "execution_count": 126,
      "outputs": [
        {
          "output_type": "display_data",
          "data": {
            "text/plain": [
              "<Figure size 640x480 with 1 Axes>"
            ],
            "image/png": "[encoded data removed]"
          },
          "metadata": {}
        }
      ]
    },
    {
      "cell_type": "markdown",
      "source": [
        "6. normal([loc, scale, size]) — нормальное распределение;"
      ],
      "metadata": {
        "id": "kTwYcBM_Umt7"
      }
    },
    {
      "cell_type": "code",
      "source": [
        "import numpy as np\n",
        "import matplotlib.pyplot as plt\n",
        "\n",
        "# Указываем параметры распределения\n",
        "loc = 0\n",
        "scale = 1\n",
        "size_6 = 200\n",
        "\n",
        "# Генерируем выборку из нормального распределения\n",
        "normal_data = np.random.normal(loc, scale, size_6)\n",
        "normal_data"
      ],
      "metadata": {
        "colab": {
          "base_uri": "https://localhost:8080/"
        },
        "id": "PnD4_lnpUpGR",
        "outputId": "3dda1e43-96fa-4daa-8a05-0ef28649f2b3"
      },
      "execution_count": 127,
      "outputs": [
        {
          "output_type": "execute_result",
          "data": {
            "text/plain": [
              "array([-7.98139170e-01,  4.33638874e-01, -5.94998346e-02,  6.32418085e-02,\n",
              "        2.43299621e-01, -2.83613130e+00,  3.29627445e-01,  3.74635794e-01,\n",
              "        3.81087596e-01, -3.08513188e+00,  4.19485097e-02, -2.10003374e+00,\n",
              "        7.61426560e-01,  8.58758581e-01,  1.64903640e+00, -7.80552114e-01,\n",
              "        5.45709032e-01,  5.41707338e-02,  1.26798815e+00, -4.63392614e-01,\n",
              "        4.15508323e-01,  1.40855689e+00,  1.93298608e-01,  9.37307355e-01,\n",
              "        5.44888678e-01,  4.73471137e-01,  4.77817594e-01,  7.28353297e-01,\n",
              "       -8.40579280e-01,  4.02101563e-01, -1.02745475e+00,  5.47793205e-01,\n",
              "        3.45435916e-01,  1.49855288e+00, -3.42099965e-01,  1.11344973e+00,\n",
              "       -1.69108680e-01,  1.44678476e+00,  1.65253795e-02, -2.65146862e-02,\n",
              "       -2.19201465e-01, -9.44285006e-01, -2.27739648e-01, -1.20407975e+00,\n",
              "        8.05340654e-01,  4.34809990e-01, -1.69012041e+00, -1.44079955e+00,\n",
              "       -1.14353408e+00, -1.44943932e-01,  1.66068405e-01,  1.00583936e+00,\n",
              "       -1.00372391e-02, -3.62259314e-01, -2.31350940e-01,  2.54959950e-01,\n",
              "       -3.11060436e-01,  2.79415087e-01,  4.85335241e-01, -3.86196061e-02,\n",
              "       -6.02621815e-01,  1.21603803e+00,  9.62608513e-01, -7.95063143e-01,\n",
              "        1.00740532e+00,  4.68852988e-01, -8.43977288e-01, -5.72227973e-01,\n",
              "       -1.19838659e+00,  1.21199809e+00,  7.56009455e-01, -5.16423297e-01,\n",
              "        1.05093203e+00, -1.09365688e-01, -4.73879405e-01,  6.96719008e-01,\n",
              "       -7.73941847e-01,  2.73703095e-01,  5.53948247e-01, -2.04418588e-01,\n",
              "       -8.95376811e-01, -1.05360381e+00, -1.52000008e+00, -8.89615143e-01,\n",
              "       -4.66709582e-01,  1.08424664e+00,  8.72149341e-01,  8.51503123e-01,\n",
              "        1.75508182e+00, -1.07899708e+00, -3.02863502e-01, -2.57304101e-01,\n",
              "       -1.18889047e-01, -1.13933849e-01, -1.47589523e+00, -9.11200268e-01,\n",
              "       -1.53317519e+00,  4.60414662e-01, -7.53400546e-03, -1.68232522e+00,\n",
              "        3.37296441e-04,  1.03672143e-01, -6.62357835e-01,  9.20034660e-01,\n",
              "        7.25708035e-01, -1.26926284e+00, -2.24874681e+00, -3.33565847e-01,\n",
              "       -1.86495526e+00,  9.44507373e-01,  3.22386725e-01,  4.38056269e-01,\n",
              "        8.06863897e-01, -1.06856835e+00, -1.69499950e+00, -1.37499427e-01,\n",
              "       -9.66436816e-02,  1.31564812e+00,  5.42958831e-01,  1.57812630e-01,\n",
              "       -7.98965104e-01, -8.29783226e-01, -2.17316220e-01, -1.45542880e+00,\n",
              "        6.76696748e-02,  3.70811278e-01,  1.20093613e-01,  5.21325067e-01,\n",
              "       -7.52955610e-01, -2.86532103e-01, -8.40860283e-01, -2.05723638e+00,\n",
              "        2.10996043e-01, -7.21404445e-02,  1.07867538e+00,  4.12005769e-01,\n",
              "       -1.15066406e+00, -4.57895324e-01,  6.95509785e-01, -1.08909272e+00,\n",
              "        1.17488707e+00, -2.33948100e-01, -1.83213439e+00,  6.45798624e-01,\n",
              "       -5.02664446e-01,  1.19405159e+00,  1.74468421e-01, -6.91908278e-01,\n",
              "        1.33274250e-01,  5.50902756e-01,  1.28076099e+00, -1.08222961e+00,\n",
              "        1.33753006e-01, -4.88043627e-01,  6.91954813e-01, -1.14503571e+00,\n",
              "        3.60266263e-01,  3.22345517e-01, -6.30406336e-01, -4.29038888e-01,\n",
              "        2.03719576e+00, -6.62555980e-01, -1.53290933e+00, -1.13141891e-01,\n",
              "       -7.12079761e-01,  5.01506768e-01,  1.59360632e+00, -5.98315133e-01,\n",
              "        3.68697919e-02, -2.92424514e-01,  1.14446798e+00,  1.11794301e+00,\n",
              "        2.97003258e-01,  2.79716026e-01, -6.60901793e-01,  1.03297168e+00,\n",
              "       -5.51229466e-01,  2.77588291e-01, -1.88000839e-01,  2.33584470e+00,\n",
              "       -1.16499696e+00,  8.30327119e-01, -4.37394285e-01,  1.44274334e+00,\n",
              "       -1.35982868e+00, -1.02150883e-01, -2.13840114e+00, -8.69606151e-01,\n",
              "        3.46486750e-01,  1.15392683e+00, -7.61086906e-03, -1.79880920e-01,\n",
              "        1.10378864e+00,  9.89668217e-02,  1.28327212e+00, -1.54486499e+00,\n",
              "       -5.82573689e-01, -5.39932184e-01, -9.56193045e-01,  2.02714735e+00])"
            ]
          },
          "metadata": {},
          "execution_count": 127
        }
      ]
    },
    {
      "cell_type": "code",
      "source": [
        "# Строим гистограмму для визуализации распределения\n",
        "plt.hist(normal_data, bins=20, color='m')\n",
        "plt.title('Normal Distribution')\n",
        "plt.show()"
      ],
      "metadata": {
        "colab": {
          "base_uri": "https://localhost:8080/",
          "height": 452
        },
        "id": "6Y1p3MCMUphB",
        "outputId": "b46fc1fb-c240-4e4c-f31f-30df73ee9eb0"
      },
      "execution_count": 128,
      "outputs": [
        {
          "output_type": "display_data",
          "data": {
            "text/plain": [
              "<Figure size 640x480 with 1 Axes>"
            ],
            "image/png": "[encoded data removed]"
          },
          "metadata": {}
        }
      ]
    },
    {
      "cell_type": "markdown",
      "source": [
        "7. poisson([lam, size]) — пуассоновское распределение;"
      ],
      "metadata": {
        "id": "FQ799czEUp4n"
      }
    },
    {
      "cell_type": "code",
      "source": [
        "import numpy as np\n",
        "import matplotlib.pyplot as plt\n",
        "\n",
        "# Указываем параметры распределения\n",
        "lam = 3\n",
        "size_7 = 200\n",
        "\n",
        "# Генерируем выборку из пуассоновского распределения\n",
        "poisson_data = np.random.poisson(lam, size_7)\n",
        "poisson_data"
      ],
      "metadata": {
        "colab": {
          "base_uri": "https://localhost:8080/"
        },
        "id": "D7vRIdX6U7FK",
        "outputId": "6dc591a2-2dbb-4e9e-a8e8-2d99a0b58eae"
      },
      "execution_count": 129,
      "outputs": [
        {
          "output_type": "execute_result",
          "data": {
            "text/plain": [
              "array([ 3,  2,  4,  2,  5,  4,  3,  6,  1,  3,  6,  4,  1,  0,  4,  5,  5,\n",
              "        2,  1,  4,  3,  4,  7,  1,  5,  3,  8,  2,  2,  5,  5,  0,  2,  5,\n",
              "        5,  2,  1,  5,  2,  5,  7,  1,  1,  6,  3,  1,  0,  2,  3,  2,  1,\n",
              "        8,  4,  2,  4,  3,  4,  3,  3,  3,  5,  3,  2,  2,  3,  5,  1,  3,\n",
              "        3,  3,  6,  7,  3,  1,  0,  2,  4,  0,  5,  4,  5,  2,  2,  2,  2,\n",
              "        3,  4,  1,  1,  3,  3,  2,  2,  1,  1,  4,  6,  4,  4,  0,  4,  1,\n",
              "        6,  3,  1,  4,  2,  3,  1,  3,  4,  4,  3,  5,  3,  2,  1,  3,  2,\n",
              "        1,  2,  3,  1,  6,  3,  8,  5,  2,  1,  3,  3,  3,  4,  6,  4,  5,\n",
              "        6,  1,  7,  6,  2,  7,  1,  1,  1,  4,  5,  6,  3,  6,  3,  3,  0,\n",
              "        3,  3,  1,  4,  4,  3,  2,  4,  1, 10,  2,  2,  4,  0,  1,  3,  1,\n",
              "        5,  3,  4,  5,  4,  1,  5,  4,  0,  6,  1,  4,  3,  0,  1,  2,  2,\n",
              "        2,  1,  3,  3,  3,  1,  2,  5,  2,  2,  6,  4,  4])"
            ]
          },
          "metadata": {},
          "execution_count": 129
        }
      ]
    },
    {
      "cell_type": "code",
      "source": [
        "# Строим гистограмму для визуализации распределения\n",
        "plt.hist(poisson_data, bins=20, color='r')\n",
        "plt.title('Poisson Distribution')\n",
        "plt.show()"
      ],
      "metadata": {
        "colab": {
          "base_uri": "https://localhost:8080/",
          "height": 452
        },
        "id": "SUd2sDDGU7wK",
        "outputId": "c384e6a9-d6f3-494d-9e79-3b3050498528"
      },
      "execution_count": 130,
      "outputs": [
        {
          "output_type": "display_data",
          "data": {
            "text/plain": [
              "<Figure size 640x480 with 1 Axes>"
            ],
            "image/png": "[encoded data removed]"
          },
          "metadata": {}
        }
      ]
    },
    {
      "cell_type": "markdown",
      "source": [
        "8. uniform([low, high, size]) — равномерное распределение."
      ],
      "metadata": {
        "id": "j2XeNzwXU8Fe"
      }
    },
    {
      "cell_type": "code",
      "source": [
        "import numpy as np\n",
        "import matplotlib.pyplot as plt\n",
        "\n",
        "# Указываем параметры распределения\n",
        "low = 0\n",
        "high = 1\n",
        "size_8 = 200\n",
        "\n",
        "# Генерируем выборку из равномерного распределения\n",
        "uniform_data = np.random.uniform(low, high, size_8)\n",
        "uniform_data"
      ],
      "metadata": {
        "colab": {
          "base_uri": "https://localhost:8080/"
        },
        "id": "bZ0OLMQFU9Tn",
        "outputId": "3f11910e-cb85-443b-84a2-6dbc2e031626"
      },
      "execution_count": 131,
      "outputs": [
        {
          "output_type": "execute_result",
          "data": {
            "text/plain": [
              "array([0.66265435, 0.82143441, 0.46311536, 0.75173164, 0.08041839,\n",
              "       0.00790259, 0.42933351, 0.95024427, 0.2938907 , 0.65432006,\n",
              "       0.5802216 , 0.72938791, 0.85540078, 0.68629162, 0.72016444,\n",
              "       0.63434114, 0.6482693 , 0.42511366, 0.21096444, 0.29969836,\n",
              "       0.47195748, 0.45417839, 0.75521256, 0.65748192, 0.26459831,\n",
              "       0.82519797, 0.18498846, 0.15955616, 0.05457325, 0.47607413,\n",
              "       0.67630605, 0.73907213, 0.25183443, 0.30332328, 0.73349599,\n",
              "       0.00551447, 0.27551271, 0.81539766, 0.47956015, 0.33613173,\n",
              "       0.67078075, 0.70745146, 0.54718908, 0.92537124, 0.16109208,\n",
              "       0.39266906, 0.11099043, 0.4483856 , 0.6372544 , 0.2127158 ,\n",
              "       0.67581879, 0.95721223, 0.54994635, 0.94416428, 0.51774207,\n",
              "       0.28553374, 0.8498948 , 0.05449635, 0.95851399, 0.55190795,\n",
              "       0.34136144, 0.35918214, 0.65976129, 0.90379344, 0.54983543,\n",
              "       0.4801382 , 0.71315326, 0.45528983, 0.69619206, 0.75042827,\n",
              "       0.17130073, 0.94015447, 0.81426797, 0.81791944, 0.9858017 ,\n",
              "       0.52889205, 0.8605473 , 0.28686716, 0.58543764, 0.9819773 ,\n",
              "       0.4575441 , 0.90414727, 0.95494159, 0.9301238 , 0.17253989,\n",
              "       0.2141375 , 0.75143346, 0.5780445 , 0.57552834, 0.15397866,\n",
              "       0.62389132, 0.13784228, 0.34427142, 0.08007419, 0.13060213,\n",
              "       0.59622631, 0.69776322, 0.46213548, 0.97330265, 0.42823385,\n",
              "       0.06512719, 0.58366565, 0.44237628, 0.83960877, 0.34501669,\n",
              "       0.36908804, 0.17707159, 0.06000376, 0.79373592, 0.35997237,\n",
              "       0.81257479, 0.77116461, 0.72309736, 0.85570626, 0.39356532,\n",
              "       0.28462632, 0.35010263, 0.30002554, 0.78969745, 0.58287602,\n",
              "       0.47997643, 0.16245873, 0.92839324, 0.66748699, 0.6142456 ,\n",
              "       0.34721628, 0.87125742, 0.49898808, 0.71438345, 0.20529623,\n",
              "       0.00804325, 0.27587751, 0.67584693, 0.86280366, 0.09506655,\n",
              "       0.28073091, 0.17327389, 0.4986578 , 0.67419993, 0.30648478,\n",
              "       0.32353302, 0.78156825, 0.77191846, 0.50964782, 0.47985654,\n",
              "       0.44686026, 0.2477748 , 0.06943104, 0.40593561, 0.12793203,\n",
              "       0.54924833, 0.57363251, 0.03432249, 0.38691462, 0.28656912,\n",
              "       0.68806823, 0.78837053, 0.76692413, 0.02985248, 0.81840032,\n",
              "       0.89548609, 0.59370304, 0.59249222, 0.21997052, 0.89140512,\n",
              "       0.69058691, 0.36745842, 0.98258202, 0.51508499, 0.30291477,\n",
              "       0.08958689, 0.14509983, 0.84858883, 0.42785484, 0.63934324,\n",
              "       0.30265216, 0.83131176, 0.34256595, 0.80639928, 0.30436565,\n",
              "       0.67182099, 0.02059398, 0.56616316, 0.62562603, 0.54201825,\n",
              "       0.26480994, 0.19827467, 0.29420687, 0.37961574, 0.50466206,\n",
              "       0.10591929, 0.22859728, 0.4371533 , 0.50272935, 0.69375725,\n",
              "       0.52752477, 0.05478821, 0.85121615, 0.48325936, 0.90306344])"
            ]
          },
          "metadata": {},
          "execution_count": 131
        }
      ]
    },
    {
      "cell_type": "code",
      "source": [
        "# Строим гистограмму для визуализации распределения\n",
        "plt.hist(uniform_data, bins=30, color='orange')\n",
        "plt.title('Uniform Distribution')\n",
        "plt.show()"
      ],
      "metadata": {
        "colab": {
          "base_uri": "https://localhost:8080/",
          "height": 452
        },
        "id": "aWGbqbEwU8zj",
        "outputId": "f808e301-a78b-43e8-a349-67bda6911622"
      },
      "execution_count": 133,
      "outputs": [
        {
          "output_type": "display_data",
          "data": {
            "text/plain": [
              "<Figure size 640x480 with 1 Axes>"
            ],
            "image/png": "[encoded data removed]"
          },
          "metadata": {}
        }
      ]
    },
    {
      "cell_type": "code",
      "source": [],
      "metadata": {
        "id": "Lf_UimVHZZbH"
      },
      "execution_count": 105,
      "outputs": []
    }
  ]
}